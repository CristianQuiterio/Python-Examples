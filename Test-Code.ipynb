{
 "cells": [
  {
   "cell_type": "code",
   "execution_count": 1,
   "id": "f21aae42",
   "metadata": {},
   "outputs": [
    {
     "name": "stdout",
     "output_type": "stream",
     "text": [
      "Number of vowels:  5\n"
     ]
    }
   ],
   "source": [
    "s='azcbobobegghakl'\n",
    "numVowels = 0\n",
    "for x in range(len(s)):\n",
    "    if s[x] == \"a\" or s[x] == \"e\" or s[x] == \"i\" or s[x] == \"o\" or s[x] == \"u\":\n",
    "        numVowels+=1\n",
    "print(\"Number of vowels: \", numVowels)"
   ]
  },
  {
   "cell_type": "code",
   "execution_count": 24,
   "id": "e8a0597d",
   "metadata": {},
   "outputs": [
    {
     "name": "stdout",
     "output_type": "stream",
     "text": [
      "Number of times  bob  occurs is:  2\n"
     ]
    }
   ],
   "source": [
    "s='azcbobobegghakl'\n",
    "subString = 'bob'\n",
    "numSubstring = 0\n",
    "y = len(subString)\n",
    "for x in range(len(s)-len(subString)+1):\n",
    "    if s[x:x+y] == subString:\n",
    "        numSubstring+=1\n",
    "print(\"Number of times \", subString, \" occurs is: \", numSubstring)"
   ]
  },
  {
   "cell_type": "code",
   "execution_count": 1,
   "id": "45b95511",
   "metadata": {
    "scrolled": true
   },
   "outputs": [
    {
     "name": "stdout",
     "output_type": "stream",
     "text": [
      "Longest substring in alphabetical order is:  beggh\n"
     ]
    }
   ],
   "source": [
    "s='azcbobobegghakl'\n",
    "currentLongest = ''\n",
    "for i in range(len(s)):\n",
    "    currSubstring = s[i]\n",
    "    for j in range(i,len(s)-1):\n",
    "        if s[j+1] >= s[j]:\n",
    "            currSubstring += s[j+1]\n",
    "        else:\n",
    "            break\n",
    "    if len(currentLongest) < len(currSubstring):\n",
    "        currentLongest = currSubstring\n",
    "print(\"Longest substring in alphabetical order is: \", currentLongest)"
   ]
  },
  {
   "cell_type": "code",
   "execution_count": 18,
   "id": "274ead02",
   "metadata": {
    "scrolled": true
   },
   "outputs": [
    {
     "name": "stdout",
     "output_type": "stream",
     "text": [
      "Remaining balance:  4691.11\n"
     ]
    }
   ],
   "source": [
    "balance = 5000\n",
    "annualInterestRate = .18\n",
    "monthlyPaymentRate = .02\n",
    "\n",
    "for i in range(12):\n",
    "    balance = balance - balance*monthlyPaymentRate\n",
    "    balance = balance + balance*annualInterestRate/12\n",
    "    \n",
    "print(\"Remaining balance: \", str.format(\"{:.2f}\", balance))"
   ]
  },
  {
   "cell_type": "code",
   "execution_count": 35,
   "id": "31707f9f",
   "metadata": {
    "scrolled": false
   },
   "outputs": [
    {
     "name": "stdout",
     "output_type": "stream",
     "text": [
      "Lowest Payment:  460.00\n"
     ]
    }
   ],
   "source": [
    "balance = 5000\n",
    "annualInterestRate = .18\n",
    "minPayment = 0\n",
    "\n",
    "while True:\n",
    "    originalBalance = balance\n",
    "    for i in range(12):\n",
    "        balance = balance - minPayment\n",
    "        balance = balance + balance*annualInterestRate/12\n",
    "    if balance <= 0:\n",
    "        break\n",
    "    else:\n",
    "        minPayment += 10\n",
    "        balance = originalBalance\n",
    "print(\"Lowest Payment: \", str.format(\"{:.2f}\", minPayment))"
   ]
  },
  {
   "cell_type": "code",
   "execution_count": 61,
   "id": "7ec34dcd",
   "metadata": {},
   "outputs": [
    {
     "name": "stdout",
     "output_type": "stream",
     "text": [
      "Lowest Payment:  451.63\n"
     ]
    }
   ],
   "source": [
    "\"\"\"My Method\"\"\"\n",
    "balance = 5000\n",
    "annualInterestRate = .18\n",
    "minPayment = 0\n",
    "\n",
    "while True:\n",
    "    originalBalance = balance\n",
    "    for i in range(12):\n",
    "        balance = balance - minPayment\n",
    "        balance = balance + balance*annualInterestRate/12\n",
    "    if balance <= 0 and balance > -.01:\n",
    "        break\n",
    "    elif balance > 0:\n",
    "        minPayment += balance/12\n",
    "        balance = originalBalance\n",
    "    else:\n",
    "        minPayment += balance/12\n",
    "        balance = originalBalance              \n",
    "print(\"Lowest Payment: \", str.format(\"{:.2f}\", minPayment))"
   ]
  },
  {
   "cell_type": "code",
   "execution_count": 57,
   "id": "4e3dfa16",
   "metadata": {},
   "outputs": [
    {
     "name": "stdout",
     "output_type": "stream",
     "text": [
      "Lowest Payment:  451.63\n"
     ]
    }
   ],
   "source": [
    "balance = 5000\n",
    "annualInterestRate = .18\n",
    "\n",
    "lowerbound = balance/12\n",
    "upperbound = balance*((1+annualInterestRate/12)**12)/12\n",
    "minPayment = (lowerbound+upperbound)/2\n",
    "\n",
    "while True:\n",
    "    originalBalance = balance\n",
    "    for i in range(12):\n",
    "        balance = balance - minPayment\n",
    "        balance = balance + balance*annualInterestRate/12   \n",
    "    if balance <= 0 and balance > -.01:\n",
    "        break\n",
    "    elif balance > 0:\n",
    "        lowerbound = minPayment\n",
    "        minPayment = (lowerbound+upperbound)/2\n",
    "        balance = originalBalance\n",
    "    else:\n",
    "        upperbound = minPayment\n",
    "        minPayment = (lowerbound+upperbound)/2\n",
    "        balance = originalBalance              \n",
    "print(\"Lowest Payment: \", str.format(\"{:.2f}\", minPayment))"
   ]
  },
  {
   "cell_type": "code",
   "execution_count": 18,
   "id": "f0045361",
   "metadata": {
    "scrolled": true
   },
   "outputs": [
    {
     "name": "stdout",
     "output_type": "stream",
     "text": [
      "Lowest Payment:  451.63\n"
     ]
    }
   ],
   "source": [
    "Balance = 5000\n",
    "annualInterestRate = .18\n",
    "lowerbounds = Balance/12\n",
    "upperbounds = Balance*((1+annualInterestRate/12)**12)/12\n",
    "\n",
    "\n",
    "def monthlyPaymentFinder(lowerbound, upperbound):\n",
    "    minPayment = (lowerbound+upperbound)/2\n",
    "    balance = Balance\n",
    "    for i in range(12):\n",
    "        balance = balance - minPayment\n",
    "        balance = balance + balance*annualInterestRate/12    \n",
    "    if balance <= 0 and balance > -.01:\n",
    "        return minPayment\n",
    "    elif balance > 0:\n",
    "        lowerbound = minPayment\n",
    "        return monthlyPaymentFinder(lowerbound, upperbound)\n",
    "    else:\n",
    "        upperbound = minPayment\n",
    "        return monthlyPaymentFinder(lowerbound, upperbound)\n",
    "\n",
    "print(\"Lowest Payment: \", str.format(\"{:.2f}\", monthlyPaymentFinder(lowerbounds, upperbounds)))"
   ]
  },
  {
   "cell_type": "code",
   "execution_count": 6,
   "id": "e4f1bc68",
   "metadata": {},
   "outputs": [],
   "source": [
    "def evalQuadratic(a, b, c, x): \n",
    "   ''' \n",
    "   a, b, c: numerical values for the coefficients of a quadratic equation \n",
    "   x: numerical value at which to evaluate the quadratic. \n",
    "   ''' \n",
    "   return a*x*x + b*x + c\n",
    "\n",
    "def twoQuadratics(a1, b1, c1, x1, a2, b2, c2, x2): \n",
    "    ''' \n",
    "    a1, b1, c1: one set of coefficients of a quadratic equation \n",
    "    a2, b2, c2: another set of coefficients of a quadratic equation \n",
    "    x1, x2: values at which to evaluate the quadratics \n",
    "    '''\n",
    "    print(evalQuadratic(a1, b1, c1, x1) + evalQuadratic(a2, b2, c2, x2))"
   ]
  },
  {
   "cell_type": "code",
   "execution_count": 32,
   "id": "aecac268",
   "metadata": {},
   "outputs": [],
   "source": [
    "def deep_reverse(L): \n",
    "    \"\"\" assumes L is a list of lists whose elements are ints \n",
    "    Mutates L such that it reverses its elements and also  \n",
    "    reverses the order of the int elements in every element of L.  \n",
    "    It does not return anything. \n",
    "    \"\"\" \n",
    "    LBigTemp = []\n",
    "    for i in L:\n",
    "        LTemp = []\n",
    "        for j in i:\n",
    "            LTemp.insert(0, j)\n",
    "        i = LTemp\n",
    "        LBigTemp.insert(0,i)\n",
    "    L.clear()\n",
    "    for i in LBigTemp:\n",
    "        L.append(i)"
   ]
  },
  {
   "cell_type": "code",
   "execution_count": 31,
   "id": "71463e3c",
   "metadata": {},
   "outputs": [
    {
     "name": "stdout",
     "output_type": "stream",
     "text": [
      "{'B': ['Ana'], 'B+': ['John'], 'A': ['Denise', 'Katy']}\n"
     ]
    }
   ],
   "source": [
    "def dict_invert(d): \n",
    "    ''' \n",
    "    d: dict \n",
    "    Returns an inverted dictionary according to the instructions above \n",
    "    ''' \n",
    "    invertedDict = {}\n",
    "    for i in d.values():\n",
    "        if i not in invertedDict:\n",
    "            L = []\n",
    "            for j in d.keys():\n",
    "                if d[j] == i:\n",
    "                    L.append(j)\n",
    "            L.sort()\n",
    "            invertedDict[i] = L\n",
    "    return invertedDict   "
   ]
  },
  {
   "cell_type": "code",
   "execution_count": 65,
   "id": "8f07fe80",
   "metadata": {
    "scrolled": true
   },
   "outputs": [],
   "source": [
    "def max_val(t):  \n",
    "    \"\"\" t, tuple or list \n",
    "        Each element of t is either an int, a tuple, or a list \n",
    "        No tuple or list is empty \n",
    "        Returns the maximum int in t or (recursively) in an element of t \n",
    "    \"\"\" \n",
    "    max = 0\n",
    "    firstNum = True\n",
    "    for i in t:\n",
    "        if isinstance(i, int):\n",
    "            if firstNum:\n",
    "                max = i\n",
    "                firstNum = False\n",
    "            elif i > max:\n",
    "                max = i\n",
    "        else:\n",
    "            j = max_val(i)\n",
    "            firstNum = False\n",
    "            if j > max:\n",
    "                max = j          \n",
    "    return max"
   ]
  },
  {
   "cell_type": "code",
   "execution_count": 53,
   "id": "e551d3e5",
   "metadata": {},
   "outputs": [
    {
     "name": "stdout",
     "output_type": "stream",
     "text": [
      "['b', 'c']\n"
     ]
    }
   ],
   "source": [
    "def f(s):\n",
    "    return 'a' in s\n",
    "\n",
    "def run_satisfiesF(L, satisfiesF):\n",
    "    print(satisfiesF(L))\n",
    "\n",
    "def satisfiesF(L): \n",
    "    \"\"\"\n",
    "        L is a list of strings.\n",
    "        \n",
    "        Assume function f is provided and it maps a string to a Boolean.\n",
    "        \n",
    "        Mutate L such that it contains all of the strings, s, originally in L such that f(s) \n",
    "        returns False and no other elements. \n",
    "        \n",
    "        Remaining elements in L should be in the same order. \n",
    "    \"\"\"\n",
    "    LTemp = []\n",
    "    for i in L:\n",
    "        if not f(i):\n",
    "            LTemp.append(i)\n",
    "    L.clear()\n",
    "    for i in LTemp:\n",
    "        L.append(i)\n",
    "    return L\n",
    "    \n",
    "L = ['a', 'b', 'c']\n",
    "run_satisfiesF(L, satisfiesF)"
   ]
  },
  {
   "cell_type": "code",
   "execution_count": 1,
   "id": "362d7b13",
   "metadata": {
    "scrolled": true
   },
   "outputs": [
    {
     "ename": "TypeError",
     "evalue": "unsupported operand type(s) for /: 'str' and 'str'",
     "output_type": "error",
     "traceback": [
      "\u001b[1;31m---------------------------------------------------------------------------\u001b[0m",
      "\u001b[1;31mTypeError\u001b[0m                                 Traceback (most recent call last)",
      "Input \u001b[1;32mIn [1]\u001b[0m, in \u001b[0;36m<cell line: 1>\u001b[1;34m()\u001b[0m\n\u001b[1;32m----> 1\u001b[0m \u001b[38;5;124;43m'\u001b[39;49m\u001b[38;5;124;43m1\u001b[39;49m\u001b[38;5;124;43m'\u001b[39;49m\u001b[38;5;241;43m/\u001b[39;49m\u001b[38;5;124;43m'\u001b[39;49m\u001b[38;5;124;43m2\u001b[39;49m\u001b[38;5;124;43m'\u001b[39;49m\n",
      "\u001b[1;31mTypeError\u001b[0m: unsupported operand type(s) for /: 'str' and 'str'"
     ]
    }
   ],
   "source": [
    "'1'/'2'"
   ]
  },
  {
   "cell_type": "code",
   "execution_count": 1,
   "id": "dee91d27",
   "metadata": {},
   "outputs": [],
   "source": []
  },
  {
   "cell_type": "code",
   "execution_count": 9,
   "id": "a9dcf402",
   "metadata": {},
   "outputs": [
    {
     "name": "stdout",
     "output_type": "stream",
     "text": [
      "aebfcgdhi\n",
      "eafbgchdi\n"
     ]
    }
   ],
   "source": [
    "def laceStrings(s1, s2):\n",
    "    s3 = ''\n",
    "    \n",
    "    if len(s1) <= len(s2):\n",
    "        shorter = len(s1)\n",
    "    else:\n",
    "        shorter = len(s2)\n",
    "        \n",
    "    for i in range(shorter):\n",
    "        s3 += s1[i] + s2[i]\n",
    "        \n",
    "    if len(s1) == shorter:\n",
    "        s3 += s2[shorter:]\n",
    "    else:\n",
    "        s3 += s1[shorter:]\n",
    "        \n",
    "    return s3\n",
    "\n",
    "print(laceStrings('abcd', 'efghi'))\n",
    "print(laceStrings('efghi', 'abcd'))"
   ]
  },
  {
   "cell_type": "code",
   "execution_count": 15,
   "id": "d242f22c",
   "metadata": {
    "scrolled": true
   },
   "outputs": [
    {
     "data": {
      "text/plain": [
       "[2,\n",
       " 3,\n",
       " 5,\n",
       " 7,\n",
       " 11,\n",
       " 13,\n",
       " 17,\n",
       " 19,\n",
       " 23,\n",
       " 29,\n",
       " 31,\n",
       " 37,\n",
       " 41,\n",
       " 43,\n",
       " 47,\n",
       " 53,\n",
       " 59,\n",
       " 61,\n",
       " 67,\n",
       " 71,\n",
       " 73,\n",
       " 79,\n",
       " 83,\n",
       " 89,\n",
       " 97]"
      ]
     },
     "execution_count": 15,
     "metadata": {},
     "output_type": "execute_result"
    }
   ],
   "source": [
    "def primes_list(N):\n",
    "    '''\n",
    "    N: an integer\n",
    "    Returns a list of prime numbers\n",
    "    '''\n",
    "    primes = []\n",
    "    for i in range(2, N+1):\n",
    "        prime = True\n",
    "        for j in range(2, i):\n",
    "            if 0 == i%j:\n",
    "                prime = False\n",
    "                break\n",
    "        if prime:   \n",
    "            primes.append(i)\n",
    "    return primes"
   ]
  },
  {
   "cell_type": "code",
   "execution_count": 25,
   "id": "4f61a2bf",
   "metadata": {},
   "outputs": [
    {
     "data": {
      "text/plain": [
       "[]"
      ]
     },
     "execution_count": 25,
     "metadata": {},
     "output_type": "execute_result"
    }
   ],
   "source": [
    "def uniqueValues(aDict):\n",
    "    '''\n",
    "    aDict: a dictionary\n",
    "    returns: a sorted list of keys that map to unique aDict values, empty \n",
    "list if none\n",
    "    '''\n",
    "    candidates = []\n",
    "    \n",
    "    for i in aDict:\n",
    "        dupe = False\n",
    "        for j in aDict:\n",
    "            if i != j and aDict[i] == aDict[j]:\n",
    "                dupe = True\n",
    "                break\n",
    "        if not dupe:\n",
    "            candidates.append(i)\n",
    "    candidates.sort()\n",
    "    return candidates   "
   ]
  },
  {
   "cell_type": "code",
   "execution_count": 32,
   "id": "7e083a9b",
   "metadata": {},
   "outputs": [],
   "source": [
    "## DO NOT MODIFY THE IMPLEMENTATION OF THE Person CLASS ##\n",
    "class Person(object):\n",
    "    def __init__(self, name):\n",
    "        #create a person with name name\n",
    "        self.name = name\n",
    "        try:\n",
    "            firstBlank = name.rindex(' ')\n",
    "            self.lastName = name[firstBlank+1:]\n",
    "        except:\n",
    "            self.lastName = name\n",
    "        self.age = None\n",
    "    def getLastName(self):\n",
    "        #return self's last name\n",
    "        return self.lastName\n",
    "    def setAge(self, age):\n",
    "        #assumes age is an int greater than 0\n",
    "        #sets self's age to age (in years)\n",
    "        self.age = age\n",
    "    def getAge(self):\n",
    "        #assumes that self's age has been set\n",
    "        #returns self's current age in years\n",
    "        if self.age == None:\n",
    "            raise ValueError\n",
    "        return self.age\n",
    "    def __lt__(self, other):\n",
    "        #return True if self's name is lexicographically less\n",
    "        #than other's name, and False otherwise\n",
    "        if self.lastName == other.lastName:\n",
    "            return self.name < other.name\n",
    "        return self.lastName < other.lastName\n",
    "    def __str__(self):\n",
    "        #return self's name\n",
    "        return self.name\n",
    "        \n",
    "class USResident(Person):\n",
    "    \"\"\" \n",
    "    A Person who resides in the US.\n",
    "    \"\"\"\n",
    "    def __init__(self, name, status):\n",
    "        \"\"\" \n",
    "        Initializes a Person object. A USResident object inherits \n",
    "        from Person and has one additional attribute:\n",
    "        status: a string, one of \"citizen\", \"legal_resident\", \"illegal_resident\"\n",
    "        Raises a ValueError if status is not one of those 3 strings\n",
    "        \"\"\"\n",
    "        super().__init__(name)\n",
    "        \n",
    "        if status != \"citizen\" and status != \"legal_resident\" and status != \"illegal_resident\":\n",
    "            raise ValueError      \n",
    "        self.status = status\n",
    "        \n",
    "    def getStatus(self):\n",
    "        \"\"\"\n",
    "        Returns the status\n",
    "        \"\"\"\n",
    "        if self.status == None:\n",
    "            raise ValueError\n",
    "        return self.status"
   ]
  },
  {
   "cell_type": "code",
   "execution_count": 37,
   "id": "16104b2a",
   "metadata": {},
   "outputs": [
    {
     "name": "stdout",
     "output_type": "stream",
     "text": [
      "True\n",
      "True\n",
      "False\n"
     ]
    }
   ],
   "source": [
    "class Container(object):\n",
    "    \"\"\" Holds hashable objects. Objects may occur 0 or more times \"\"\"\n",
    "    def __init__(self):\n",
    "        \"\"\" Creates a new container with no objects in it. I.e., any object \n",
    "occurs 0 times in self. \"\"\"\n",
    "        self.vals = {}\n",
    "    def insert(self, e):\n",
    "        \"\"\" assumes e is hashable\n",
    "            Increases the number times e occurs in self by 1. \"\"\"\n",
    "        try:\n",
    "            self.vals[e] += 1\n",
    "        except:\n",
    "            self.vals[e] = 1\n",
    "    def __str__(self):\n",
    "        s = \"\"\n",
    "        for i in sorted(self.vals.keys()):\n",
    "            if self.vals[i] != 0:\n",
    "                s += str(i)+\":\"+str(self.vals[i])+\"\\n\"\n",
    "        return s\n",
    "\n",
    "class ASet(Container):\n",
    "    def remove(self, e):\n",
    "        \"\"\"assumes e is hashable\n",
    "           removes e from self\"\"\"\n",
    "        if e in self.vals:\n",
    "            self.vals.pop(e)\n",
    "    def is_in(self, e):\n",
    "        \"\"\"assumes e is hashable\n",
    "           returns True if e has been inserted in self and\n",
    "           not subsequently removed, and False otherwise.\"\"\"  \n",
    "        return e in self.vals and self.vals[e] != 0"
   ]
  },
  {
   "cell_type": "code",
   "execution_count": null,
   "id": "325da4dd",
   "metadata": {},
   "outputs": [],
   "source": []
  }
 ],
 "metadata": {
  "kernelspec": {
   "display_name": "Python 3 (ipykernel)",
   "language": "python",
   "name": "python3"
  },
  "language_info": {
   "codemirror_mode": {
    "name": "ipython",
    "version": 3
   },
   "file_extension": ".py",
   "mimetype": "text/x-python",
   "name": "python",
   "nbconvert_exporter": "python",
   "pygments_lexer": "ipython3",
   "version": "3.9.12"
  }
 },
 "nbformat": 4,
 "nbformat_minor": 5
}
