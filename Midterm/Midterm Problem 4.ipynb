{
 "cells": [
  {
   "cell_type": "code",
   "execution_count": 2,
   "id": "cfd011dc",
   "metadata": {},
   "outputs": [
    {
     "name": "stdout",
     "output_type": "stream",
     "text": [
      "[[7, 6, 5], [4, 3], [2, 1]]\n",
      "[[100, -10, 10], [1, 2, 3], [3, 2, 1], [2, 1, 0]]\n"
     ]
    }
   ],
   "source": [
    "def deep_reverse(L): \n",
    "    \"\"\" assumes L is a list of lists whose elements are ints \n",
    "    Mutates L such that it reverses its elements and also  \n",
    "    reverses the order of the int elements in every element of L.  \n",
    "    It does not return anything. \n",
    "    \"\"\"\n",
    "    LBigTemp = []\n",
    "    for i in L:\n",
    "        LTemp = []\n",
    "        for j in i:\n",
    "            LTemp.insert(0,j)\n",
    "        i = LTemp\n",
    "        LBigTemp.insert(0,i)\n",
    "    L.clear()\n",
    "    for i in LBigTemp:\n",
    "        L.append(i)\n",
    "\n",
    "L = [[1, 2], [3, 4], [5, 6, 7]]\n",
    "deep_reverse(L)  \n",
    "print(L) \n",
    "L = [[0, 1, 2], [1, 2, 3], [3, 2, 1], [10, -10, 100]] \n",
    "deep_reverse(L)  \n",
    "print(L) "
   ]
  }
 ],
 "metadata": {
  "kernelspec": {
   "display_name": "Python 3 (ipykernel)",
   "language": "python",
   "name": "python3"
  },
  "language_info": {
   "codemirror_mode": {
    "name": "ipython",
    "version": 3
   },
   "file_extension": ".py",
   "mimetype": "text/x-python",
   "name": "python",
   "nbconvert_exporter": "python",
   "pygments_lexer": "ipython3",
   "version": "3.9.12"
  }
 },
 "nbformat": 4,
 "nbformat_minor": 5
}
