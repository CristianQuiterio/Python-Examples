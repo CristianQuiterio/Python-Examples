{
 "cells": [
  {
   "cell_type": "code",
   "execution_count": 6,
   "id": "5406dd1b",
   "metadata": {},
   "outputs": [
    {
     "name": "stdout",
     "output_type": "stream",
     "text": [
      "5\n",
      "9\n",
      "2\n",
      "-5\n",
      "25\n"
     ]
    }
   ],
   "source": [
    "def max_val(t):  \n",
    "    \"\"\" t, tuple or list \n",
    "        Each element of t is either an int, a tuple, or a list \n",
    "        No tuple or list is empty \n",
    "        Returns the maximum int in t or (recursively) in an element of t \n",
    "    \"\"\"  \n",
    "    max = 0\n",
    "    firstNum = True\n",
    "    \n",
    "    for i in t:\n",
    "        if isinstance(i, int):\n",
    "            if firstNum:\n",
    "                max = i\n",
    "                firstNum = False\n",
    "            elif max < i:\n",
    "                max = i\n",
    "        else:\n",
    "            j = max_val(i)\n",
    "            firstNum = False\n",
    "            if j > max:\n",
    "                max = j\n",
    "    return max\n",
    "\n",
    "print(max_val((5, (1,2), [[1],[2]])))\n",
    "print(max_val((5, (1,2), [[1],[9]])))\n",
    "print(max_val(((1,2), 1)))\n",
    "print(max_val((-10, -5)))\n",
    "print(max_val(((-10), -5, [-10, -11, 25])))"
   ]
  }
 ],
 "metadata": {
  "kernelspec": {
   "display_name": "Python 3 (ipykernel)",
   "language": "python",
   "name": "python3"
  },
  "language_info": {
   "codemirror_mode": {
    "name": "ipython",
    "version": 3
   },
   "file_extension": ".py",
   "mimetype": "text/x-python",
   "name": "python",
   "nbconvert_exporter": "python",
   "pygments_lexer": "ipython3",
   "version": "3.9.12"
  }
 },
 "nbformat": 4,
 "nbformat_minor": 5
}
