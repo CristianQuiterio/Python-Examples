{
 "cells": [
  {
   "cell_type": "code",
   "execution_count": 2,
   "id": "07c0d7ff",
   "metadata": {},
   "outputs": [
    {
     "name": "stdout",
     "output_type": "stream",
     "text": [
      "Lowest Payment:  460.00\n"
     ]
    }
   ],
   "source": [
    "balance = 5000\n",
    "annualInterestRate = .18\n",
    "\n",
    "monthlyPayment = 0\n",
    "while True:\n",
    "    originalBalance = balance\n",
    "    for i in range(12):\n",
    "        balance -= monthlyPayment\n",
    "        balance += balance*annualInterestRate/12\n",
    "    if balance <= 0:\n",
    "        break\n",
    "    else:\n",
    "        monthlyPayment += 10\n",
    "        balance = originalBalance\n",
    "\n",
    "print(\"Lowest Payment: \", str.format(\"{:.2f}\", monthlyPayment))"
   ]
  }
 ],
 "metadata": {
  "kernelspec": {
   "display_name": "Python 3 (ipykernel)",
   "language": "python",
   "name": "python3"
  },
  "language_info": {
   "codemirror_mode": {
    "name": "ipython",
    "version": 3
   },
   "file_extension": ".py",
   "mimetype": "text/x-python",
   "name": "python",
   "nbconvert_exporter": "python",
   "pygments_lexer": "ipython3",
   "version": "3.9.12"
  }
 },
 "nbformat": 4,
 "nbformat_minor": 5
}
