{
 "cells": [
  {
   "cell_type": "code",
   "execution_count": 12,
   "id": "4c146335",
   "metadata": {},
   "outputs": [
    {
     "name": "stdout",
     "output_type": "stream",
     "text": [
      "Longest substring in alphabetical order is:  beggh\n"
     ]
    }
   ],
   "source": [
    "s = 'azcbobobegghakl'\n",
    "longestSubstring = ''\n",
    "for i in range(len(s)):\n",
    "    currentSubstring = s[i]\n",
    "    for j in range(i ,len(s)-1):\n",
    "        if s[j] <= s[j+1]:\n",
    "            currentSubstring += s[j+1]\n",
    "        else:\n",
    "            break\n",
    "    if len(currentSubstring) > len(longestSubstring):\n",
    "        longestSubstring = currentSubstring\n",
    "print(\"Longest substring in alphabetical order is: \", longestSubstring)\n",
    "        "
   ]
  }
 ],
 "metadata": {
  "kernelspec": {
   "display_name": "Python 3 (ipykernel)",
   "language": "python",
   "name": "python3"
  },
  "language_info": {
   "codemirror_mode": {
    "name": "ipython",
    "version": 3
   },
   "file_extension": ".py",
   "mimetype": "text/x-python",
   "name": "python",
   "nbconvert_exporter": "python",
   "pygments_lexer": "ipython3",
   "version": "3.9.12"
  }
 },
 "nbformat": 4,
 "nbformat_minor": 5
}
