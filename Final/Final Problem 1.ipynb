{
 "cells": [
  {
   "cell_type": "code",
   "execution_count": 4,
   "id": "e3e6def8",
   "metadata": {},
   "outputs": [
    {
     "name": "stdout",
     "output_type": "stream",
     "text": [
      "aebfcgdhi\n",
      "eafbgchdi\n"
     ]
    }
   ],
   "source": [
    "def laceStrings(s1, s2):\n",
    "    s3 = ''\n",
    "    \n",
    "    if len(s1) <= len(s2):\n",
    "        shorter = len(s1)\n",
    "    else:\n",
    "        shorter = len(s2)\n",
    "        \n",
    "    for i in range(shorter):\n",
    "        s3 += s1[i] + s2[i]\n",
    "    \n",
    "    if len(s1) == shorter:\n",
    "        s3 += s2[shorter:]\n",
    "    else:\n",
    "        s3 += s1[shorter:]\n",
    "        \n",
    "    return s3\n",
    "\n",
    "print(laceStrings('abcd', 'efghi'))\n",
    "print(laceStrings('efghi', 'abcd'))"
   ]
  }
 ],
 "metadata": {
  "kernelspec": {
   "display_name": "Python 3 (ipykernel)",
   "language": "python",
   "name": "python3"
  },
  "language_info": {
   "codemirror_mode": {
    "name": "ipython",
    "version": 3
   },
   "file_extension": ".py",
   "mimetype": "text/x-python",
   "name": "python",
   "nbconvert_exporter": "python",
   "pygments_lexer": "ipython3",
   "version": "3.9.12"
  }
 },
 "nbformat": 4,
 "nbformat_minor": 5
}
