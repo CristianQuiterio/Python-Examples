{
 "cells": [
  {
   "cell_type": "code",
   "execution_count": 5,
   "id": "149ddd5c",
   "metadata": {},
   "outputs": [],
   "source": [
    "def uniqueValues(aDict):\n",
    "    '''\n",
    "    aDict: a dictionary\n",
    "    returns: a sorted list of keys that map to unique aDict values, empty \n",
    "list if none\n",
    "    '''\n",
    "    \n",
    "    candidates = []\n",
    "    \n",
    "    for i in aDict:\n",
    "        dupe = False\n",
    "        for j in aDict:\n",
    "            if i != j and aDict[i] == aDict[j]:\n",
    "                dupe = True\n",
    "                break\n",
    "        if not dupe:\n",
    "            candidates.append(i)\n",
    "    candidates.sort()\n",
    "    return candidates"
   ]
  }
 ],
 "metadata": {
  "kernelspec": {
   "display_name": "Python 3 (ipykernel)",
   "language": "python",
   "name": "python3"
  },
  "language_info": {
   "codemirror_mode": {
    "name": "ipython",
    "version": 3
   },
   "file_extension": ".py",
   "mimetype": "text/x-python",
   "name": "python",
   "nbconvert_exporter": "python",
   "pygments_lexer": "ipython3",
   "version": "3.9.12"
  }
 },
 "nbformat": 4,
 "nbformat_minor": 5
}
