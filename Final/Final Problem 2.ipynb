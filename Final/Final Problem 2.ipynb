{
 "cells": [
  {
   "cell_type": "code",
   "execution_count": 2,
   "id": "633d97ce",
   "metadata": {},
   "outputs": [],
   "source": [
    "def primes_list(N):\n",
    "    '''\n",
    "    N: an integer\n",
    "    Returns a list of prime numbers\n",
    "    '''\n",
    "    primes = []\n",
    "    \n",
    "    for i in range(2, N+1):\n",
    "        prime = True\n",
    "        for j in range(2, i):\n",
    "            if i%j == 0:\n",
    "                prime = False\n",
    "                break\n",
    "        if prime:\n",
    "            primes.append(i)\n",
    "    \n",
    "    return primes         "
   ]
  }
 ],
 "metadata": {
  "kernelspec": {
   "display_name": "Python 3 (ipykernel)",
   "language": "python",
   "name": "python3"
  },
  "language_info": {
   "codemirror_mode": {
    "name": "ipython",
    "version": 3
   },
   "file_extension": ".py",
   "mimetype": "text/x-python",
   "name": "python",
   "nbconvert_exporter": "python",
   "pygments_lexer": "ipython3",
   "version": "3.9.12"
  }
 },
 "nbformat": 4,
 "nbformat_minor": 5
}
