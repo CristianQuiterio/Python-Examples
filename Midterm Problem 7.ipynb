{
 "cells": [
  {
   "cell_type": "code",
   "execution_count": 2,
   "id": "ee8bfc16",
   "metadata": {},
   "outputs": [
    {
     "name": "stdout",
     "output_type": "stream",
     "text": [
      "['b', 'c']\n"
     ]
    }
   ],
   "source": [
    "def f(s):\n",
    "    return 'a' in s\n",
    "\n",
    "def run_satisfiesF(L, satisfiesF):\n",
    "    print(satisfiesF(L))\n",
    "\n",
    "def satisfiesF(L): \n",
    "    '''\n",
    "    L is a list of strings. \n",
    "    \n",
    "    Assume function f is provided and it maps a string to a Boolean.\n",
    "    \n",
    "    Mutate L such that it contains all of the strings, s, originally in L such that f(s) \n",
    "    returns False, and no other elements. \n",
    "    \n",
    "    Remaining elements in L should be in the same order. \n",
    "    '''\n",
    "    LTemp = []\n",
    "    for i in L:\n",
    "        if not f(i):\n",
    "            LTemp.append(i)\n",
    "    L.clear()\n",
    "    for i in LTemp:\n",
    "        L.append(i)\n",
    "    return L\n",
    "    \n",
    "    \n",
    "L = ['a', 'b', 'c']\n",
    "run_satisfiesF(L, satisfiesF)"
   ]
  }
 ],
 "metadata": {
  "kernelspec": {
   "display_name": "Python 3 (ipykernel)",
   "language": "python",
   "name": "python3"
  },
  "language_info": {
   "codemirror_mode": {
    "name": "ipython",
    "version": 3
   },
   "file_extension": ".py",
   "mimetype": "text/x-python",
   "name": "python",
   "nbconvert_exporter": "python",
   "pygments_lexer": "ipython3",
   "version": "3.9.12"
  }
 },
 "nbformat": 4,
 "nbformat_minor": 5
}
