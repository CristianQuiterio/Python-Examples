{
 "cells": [
  {
   "cell_type": "code",
   "execution_count": 1,
   "id": "143ea2ac",
   "metadata": {},
   "outputs": [
    {
     "name": "stdout",
     "output_type": "stream",
     "text": [
      "{10: [1], 20: [2], 30: [3]}\n",
      "{10: [1], 20: [2], 30: [3, 4]}\n",
      "{True: [0, 2, 4]}\n"
     ]
    }
   ],
   "source": [
    "def dict_invert(d): \n",
    "    ''' \n",
    "    d: dict \n",
    "    Returns an inverted dictionary according to the instructions above \n",
    "    ''' \n",
    "    invertedDict = {}\n",
    "    \n",
    "    for i in d.values():\n",
    "        if i not in invertedDict:\n",
    "            L = []\n",
    "            for j in d.keys():\n",
    "                if d[j] == i:\n",
    "                    L.append(j)\n",
    "            L.sort()\n",
    "            invertedDict[i] = L\n",
    "    return invertedDict\n",
    "\n",
    "d = {1:10, 2:20, 3:30}\n",
    "print(dict_invert(d))\n",
    "d = {1:10, 2:20, 3:30, 4:30}\n",
    "print(dict_invert(d))\n",
    "d = {4:True, 2:True, 0:True}\n",
    "print(dict_invert(d))"
   ]
  }
 ],
 "metadata": {
  "kernelspec": {
   "display_name": "Python 3 (ipykernel)",
   "language": "python",
   "name": "python3"
  },
  "language_info": {
   "codemirror_mode": {
    "name": "ipython",
    "version": 3
   },
   "file_extension": ".py",
   "mimetype": "text/x-python",
   "name": "python",
   "nbconvert_exporter": "python",
   "pygments_lexer": "ipython3",
   "version": "3.9.12"
  }
 },
 "nbformat": 4,
 "nbformat_minor": 5
}
