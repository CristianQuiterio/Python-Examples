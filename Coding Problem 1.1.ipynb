{
 "cells": [
  {
   "cell_type": "code",
   "execution_count": 5,
   "id": "508203fc",
   "metadata": {},
   "outputs": [
    {
     "name": "stdout",
     "output_type": "stream",
     "text": [
      "a\n",
      "o\n",
      "o\n",
      "e\n",
      "a\n",
      "Number of Vowels:  5\n"
     ]
    }
   ],
   "source": [
    "s = 'azcbobobegghakl'\n",
    "numVowels = 0\n",
    "for char in range(len(s)):\n",
    "    if s[char] == \"a\" or s[char] == \"e\" or s[char] == \"i\" or s[char] == \"o\" or s[char] == \"u\":\n",
    "        numVowels+=1\n",
    "print(\"Number of Vowels: \", numVowels)"
   ]
  }
 ],
 "metadata": {
  "kernelspec": {
   "display_name": "Python 3 (ipykernel)",
   "language": "python",
   "name": "python3"
  },
  "language_info": {
   "codemirror_mode": {
    "name": "ipython",
    "version": 3
   },
   "file_extension": ".py",
   "mimetype": "text/x-python",
   "name": "python",
   "nbconvert_exporter": "python",
   "pygments_lexer": "ipython3",
   "version": "3.9.12"
  }
 },
 "nbformat": 4,
 "nbformat_minor": 5
}
