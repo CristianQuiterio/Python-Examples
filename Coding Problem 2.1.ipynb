{
 "cells": [
  {
   "cell_type": "code",
   "execution_count": 3,
   "id": "cccd3184",
   "metadata": {},
   "outputs": [
    {
     "name": "stdout",
     "output_type": "stream",
     "text": [
      "Remaining balance:  4691.11\n"
     ]
    }
   ],
   "source": [
    "balance = 5000\n",
    "annualInterestRate = .18\n",
    "monthlyPaymentRate = .02\n",
    "\n",
    "for i in range(12):\n",
    "    balance -= balance*monthlyPaymentRate\n",
    "    balance += balance*annualInterestRate/12\n",
    "\n",
    "print(\"Remaining balance: \", str.format(\"{:.2f}\", balance))"
   ]
  }
 ],
 "metadata": {
  "kernelspec": {
   "display_name": "Python 3 (ipykernel)",
   "language": "python",
   "name": "python3"
  },
  "language_info": {
   "codemirror_mode": {
    "name": "ipython",
    "version": 3
   },
   "file_extension": ".py",
   "mimetype": "text/x-python",
   "name": "python",
   "nbconvert_exporter": "python",
   "pygments_lexer": "ipython3",
   "version": "3.9.12"
  }
 },
 "nbformat": 4,
 "nbformat_minor": 5
}
