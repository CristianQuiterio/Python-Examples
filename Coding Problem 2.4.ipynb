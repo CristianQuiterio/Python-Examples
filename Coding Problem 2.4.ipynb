{
 "cells": [
  {
   "cell_type": "code",
   "execution_count": 3,
   "id": "a1839ac7",
   "metadata": {},
   "outputs": [
    {
     "name": "stdout",
     "output_type": "stream",
     "text": [
      "Lowest Payment:  451.63\n"
     ]
    }
   ],
   "source": [
    "Balance = 5000\n",
    "annualInterestRate = .18\n",
    "\n",
    "Lowerbound = Balance/12\n",
    "Upperbound = Balance*((1+annualInterestRate/12)**12)/12\n",
    "\n",
    "def monthlyPaymentFinder(lowerbound, upperbound):\n",
    "    monthlyPayment = (lowerbound+upperbound)/2\n",
    "    balance = Balance\n",
    "    \n",
    "    for i in range(12):\n",
    "        balance -= monthlyPayment\n",
    "        balance += balance*annualInterestRate/12\n",
    "        \n",
    "    if balance <= 0 and balance > -.01:\n",
    "        return monthlyPayment\n",
    "    elif balance > 0:\n",
    "        lowerbound = monthlyPayment\n",
    "        return monthlyPaymentFinder(lowerbound, upperbound)\n",
    "    else:\n",
    "        upperbound = monthlyPayment\n",
    "        return monthlyPaymentFinder(lowerbound, upperbound)      \n",
    "\n",
    "print(\"Lowest Payment: \", str.format(\"{:.2f}\", monthlyPaymentFinder(Lowerbound, Upperbound)))"
   ]
  }
 ],
 "metadata": {
  "kernelspec": {
   "display_name": "Python 3 (ipykernel)",
   "language": "python",
   "name": "python3"
  },
  "language_info": {
   "codemirror_mode": {
    "name": "ipython",
    "version": 3
   },
   "file_extension": ".py",
   "mimetype": "text/x-python",
   "name": "python",
   "nbconvert_exporter": "python",
   "pygments_lexer": "ipython3",
   "version": "3.9.12"
  }
 },
 "nbformat": 4,
 "nbformat_minor": 5
}
